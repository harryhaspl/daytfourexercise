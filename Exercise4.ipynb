{
 "cells": [
  {
   "cell_type": "code",
   "execution_count": 1,
   "metadata": {},
   "outputs": [],
   "source": [
    "class Job:\n",
    "    def __init__(self, title, duration, description, company):\n",
    "        self.title = title\n",
    "        self.duration = duration\n",
    "        self.description = description\n",
    "        self.company = company\n",
    "\n",
    "    def output(self):\n",
    "        print(f\"{self.title} @ {self.company} - {self.duration} {self.description}\")\n"
   ]
  },
  {
   "cell_type": "code",
   "execution_count": 2,
   "metadata": {},
   "outputs": [],
   "source": [
    "class Education:\n",
    "    def __init__(self, school, year, title):\n",
    "        self.school = school\n",
    "        self.year = year\n",
    "        self.title = title\n",
    "\n",
    "    def output(self):\n",
    "        print(f\"{self.school}, {self.year}, {self.title}\")\n"
   ]
  },
  {
   "cell_type": "code",
   "execution_count": 12,
   "metadata": {},
   "outputs": [],
   "source": [
    "class Resume:\n",
    "    def __init__(self, name, phone, email):\n",
    "        self.name = name\n",
    "        self.phone = phone\n",
    "        self.email = email\n",
    "        self.experience = []\n",
    "        self.education = []\n",
    "\n",
    "    def output(self):\n",
    "        print(\"Resume of:\")\n",
    "        print(self.name)\n",
    "        print(self.phone)\n",
    "        print(self.email)\n",
    "\n",
    "        print(\"\\nExperience:\")\n",
    "        for job in self.experience:\n",
    "            job.output()\n",
    "            \n",
    "        print(\"\\nEducation:\")\n",
    "        for e in self.education:\n",
    "            e.output()\n",
    "    \n",
    "    def add_job(self, title, duration, description, company):\n",
    "        j = Job(title, duration, description, company)\n",
    "        self.experience.append(j)\n",
    "\n",
    "    def add_education(self, school, duration,specialization):\n",
    "        j = Education(school, duration,specialization)\n",
    "        self.education.append(j)"
   ]
  },
  {
   "cell_type": "code",
   "execution_count": 13,
   "metadata": {},
   "outputs": [],
   "source": [
    "myresume = Resume(\"Harald\", \"12345\", \"harryh@gmail.com\")"
   ]
  },
  {
   "cell_type": "code",
   "execution_count": 14,
   "metadata": {},
   "outputs": [],
   "source": [
    "myresume.add_job(\"Software Engineer\", \"10 Years\" , \"Developing customer specific software products\", \"APUS\" )\n",
    "myresume.add_job(\"Software Engineer\", \"4 Years\" , \"Voice Communcation System\", \"Frequentis\" )\n",
    "\n",
    "myresume.add_education(\"FHWN\", \"2003\" , \"MSC\" )\n",
    "myresume.add_education(\"Secondary Technical College\", \"1999\", \"BSC\")"
   ]
  },
  {
   "cell_type": "code",
   "execution_count": 15,
   "metadata": {},
   "outputs": [
    {
     "name": "stdout",
     "output_type": "stream",
     "text": [
      "Resume of:\n",
      "Harald\n",
      "12345\n",
      "harryh@gmail.com\n",
      "\n",
      "Experience:\n",
      "Software Engineer @ APUS - 10 Years Developing customer specific software products\n",
      "Software Engineer @ Frequentis - 4 Years Voice Communcation System\n",
      "\n",
      "Education:\n",
      "FHWN, 2003, MSC\n",
      "Secondary Technical College, 1999, BSC\n"
     ]
    }
   ],
   "source": [
    "myresume.output()"
   ]
  },
  {
   "cell_type": "code",
   "execution_count": null,
   "metadata": {},
   "outputs": [],
   "source": []
  }
 ],
 "metadata": {
  "kernelspec": {
   "display_name": "Python 3",
   "language": "python",
   "name": "python3"
  },
  "language_info": {
   "codemirror_mode": {
    "name": "ipython",
    "version": 3
   },
   "file_extension": ".py",
   "mimetype": "text/x-python",
   "name": "python",
   "nbconvert_exporter": "python",
   "pygments_lexer": "ipython3",
   "version": "3.7.6"
  }
 },
 "nbformat": 4,
 "nbformat_minor": 4
}
